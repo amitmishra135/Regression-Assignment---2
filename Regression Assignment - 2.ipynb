{
 "cells": [
  {
   "cell_type": "markdown",
   "id": "da7ef582-602c-40c6-b542-443848af5620",
   "metadata": {},
   "source": [
    "Q1. Explain the concept of R-squared in linear regression models. How is it calculated, and what does it\n",
    "represent?\n",
    "\n",
    "Answer ->"
   ]
  },
  {
   "cell_type": "markdown",
   "id": "2212a464-5866-4f5f-bff2-b0e32631338f",
   "metadata": {},
   "source": [
    "* Concept: R-squared (R²) measures the proportion of the variance in the dependent variable that is predictable from the independent variables.\n",
    "\n",
    "* Calculation:\n",
    "   * R2 = 1 - SSres/SStot\n",
    "   \n",
    "   where SSres is the sum of square of residuals, and SStot is the total sum of square.\n",
    "    \n",
    "* Representation: An R-squared value of 1 indicates a perfect fit, while 0 indicates that the model does not explain any of the variance.\n"
   ]
  },
  {
   "cell_type": "markdown",
   "id": "39f6d49c-c3bb-4d60-ac21-408757f0238d",
   "metadata": {},
   "source": [
    "Q2. Define adjusted R-squared and explain how it differs from the regular R-squared.\n",
    "\n",
    "Answer ->"
   ]
  },
  {
   "cell_type": "markdown",
   "id": "f26862ea-7f10-4b1d-8bde-178d4d287ae2",
   "metadata": {},
   "source": [
    "* Concept: Adjusted R-squared adjusts the R-squared value for the number of predictors in the model.\n",
    "\n",
    "* Difference: Adjusted R-squared accounts for the number of predictors and can decrease if unnecessary predictors are added, unlike R-squared which can only increase."
   ]
  },
  {
   "cell_type": "markdown",
   "id": "2b9c54d4-09f2-495e-8445-9e8062452899",
   "metadata": {},
   "source": [
    "Q3. When is it more appropriate to use adjusted R-squared?\n",
    "\n",
    "Answer ->"
   ]
  },
  {
   "cell_type": "markdown",
   "id": "ce67d808-c140-407a-811e-aabd55824590",
   "metadata": {},
   "source": [
    "* Appropriateness: Use adjusted R-squared when comparing models with different numbers of predictors to avoid overestimating the model's explanatory power."
   ]
  },
  {
   "cell_type": "markdown",
   "id": "76e7e8f0-f3f4-418b-b18b-81e1205e537d",
   "metadata": {},
   "source": [
    "Q4. What are RMSE, MSE, and MAE in the context of regression analysis? How are these metrics\n",
    "calculated, and what do they represent?\n",
    "\n",
    "Answer->"
   ]
  },
  {
   "cell_type": "markdown",
   "id": "51c3db1e-1d0f-4acd-9376-3909aac940c8",
   "metadata": {},
   "source": [
    "1. RMSE (Root Mean Squared Error):\n",
    "    * Calculation: RMSE=sqrt(MSE)\n",
    "    *Representation: Measures the average magnitude of the errors, sensitive to large errors.\n",
    "    \n",
    "2. MSE (Mean Squared Error):\n",
    "    * Calculation: MSE = 1/n (sum from i=1 to n of (Yi -y^i)2 )\n",
    "    *Representation: Measures the average squared difference between actual and predicted values.\n",
    "    \n",
    "3. MAE (Mean Absolute Error):\n",
    "    * Calculation: MAE = 1/n (sum from i=1 to n of (Yi -y^i))\n",
    "    * Representation: Measures the average magnitude of the errors without considering direction, less sensitive to outliers than RMSE."
   ]
  },
  {
   "cell_type": "markdown",
   "id": "47026337-6580-4d1e-9cad-401fbe662ab6",
   "metadata": {},
   "source": [
    "Q5. Discuss the advantages and disadvantages of using RMSE, MSE, and MAE as evaluation metrics in\n",
    "regression analysis.\n",
    "\n",
    "Answer ->"
   ]
  },
  {
   "cell_type": "markdown",
   "id": "01220c56-b999-4cdf-a5f1-4ab31526b1f8",
   "metadata": {},
   "source": [
    "1. RMSE:\n",
    "\n",
    "* Advantages: Penalizes larger errors more, useful when large errors are particularly undesirable.\n",
    "* Disadvantages: Sensitive to outliers.\n",
    "\n",
    "2. MSE:\n",
    "\n",
    "* Advantages: Useful for mathematical calculations and derivative-based optimizations.\n",
    "* Disadvantages: Sensitive to outliers, harder to interpret due to squaring of units.\n",
    "\n",
    "3. MAE:\n",
    "\n",
    "* Advantages: Easy to interpret, less sensitive to outliers.\n",
    "*Disadvantages: Does not penalize larger errors as strongly as RMSE."
   ]
  },
  {
   "cell_type": "markdown",
   "id": "b4476d9d-ec3f-4489-a836-803b857770d7",
   "metadata": {},
   "source": [
    "Q6. Explain the concept of Lasso regularization. How does it differ from Ridge regularization, and when is\n",
    "it more appropriate to use?\n",
    "\n",
    "Answer ->"
   ]
  },
  {
   "cell_type": "markdown",
   "id": "121596e1-1963-44d4-b53e-4de032030d69",
   "metadata": {},
   "source": [
    "* Concept: Lasso (Least Absolute Shrinkage and Selection Operator) regularization adds a penalty equal to the absolute value of \n",
    "            the coefficients to the loss function.\n",
    "\n",
    "* Difference from Ridge: Lasso can shrink coefficients to exactly zero, effectively performing \n",
    "            variable selection. Ridge regularization adds a penalty proportional to the square of \n",
    "            the coefficients, shrinking them but not setting them to zero."
   ]
  },
  {
   "cell_type": "markdown",
   "id": "28586ae0-6ead-4969-8511-3691b79434ad",
   "metadata": {},
   "source": [
    "Q7. How do regularized linear models help to prevent overfitting in machine learning? Provide an example to illustrate.\n",
    "\n",
    "Answer ->"
   ]
  },
  {
   "cell_type": "markdown",
   "id": "b4b91b42-4df3-41a7-af95-15e1bb467cab",
   "metadata": {},
   "source": [
    "* Concept: Regularized models (e.g., Ridge, Lasso) add a penalty to the loss function to prevent overfitting by discouraging overly complex models"
   ]
  },
  {
   "cell_type": "markdown",
   "id": "f69536a4-8e4b-46df-8ad8-0e29caf53706",
   "metadata": {},
   "source": [
    "Q8. Discuss the limitations of regularized linear models and explain why they may not always be the best choice for regression analysis.\n",
    "\n",
    "Answer ->"
   ]
  },
  {
   "cell_type": "markdown",
   "id": "7392c3c5-2fa9-4076-a850-cd6a8a4960e3",
   "metadata": {},
   "source": [
    "Limitations:\n",
    "\n",
    "* May not capture non-linear relationships well.\n",
    "* Choosing the regularization parameter 𝜆 and λ can be challenging.\n",
    "* Can be computationally intensive for large datasets."
   ]
  },
  {
   "cell_type": "markdown",
   "id": "69cbb0f4-a070-4e4a-9796-044759eafc39",
   "metadata": {},
   "source": [
    "Q9. You are comparing the performance of two regression models using different evaluation metrics. Model A has an RMSE of 10, while Model B has an MAE of 8. Which model would you choose as the better performer, and why? Are there any limitations to your choice of metric?\n",
    "\n",
    "Answer ->"
   ]
  },
  {
   "cell_type": "markdown",
   "id": "f2a45fea-bf60-44c8-8225-1c66f29c9aa4",
   "metadata": {},
   "source": [
    "* Model Comparison: Model A (RMSE = 10) vs. Model B (MAE = 8).\n",
    "\n",
    "* Choice: Model B may be preferable as MAE is generally more interpretable and less sensitive to outliers.\n",
    "\n",
    "* Limitations: Using different metrics can complicate comparisons; RMSE and MAE provide different perspectives on model performance."
   ]
  },
  {
   "cell_type": "markdown",
   "id": "29a90a73-908e-490a-9e61-2b2a9f66ec39",
   "metadata": {},
   "source": [
    "Q10. You are comparing the performance of two regularized linear models using different types of regularization. Model A uses Ridge regularization with a regularization parameter of 0.1, while Model B uses Lasso regularization with a regularization parameter of 0.5. Which model would you choose as the\n",
    "better performer, and why? Are there any trade-offs or limitations to your choice  of regularization method? provide answer in breifly not very lengthy\n",
    "\n",
    "Answer ->"
   ]
  },
  {
   "cell_type": "markdown",
   "id": "1625699a-6759-4398-9971-a58542cd22ee",
   "metadata": {},
   "source": [
    "Model Comparison: Model A (Ridge, 𝜆 = 0.1) vs. Model B (Lasso, λ=0.5).\n",
    "\n",
    "* Choice: Depends on the context. If feature selection is important, choose Model B (Lasso). If stability and incorporating all features are important, choose Model A (Ridge).\n",
    "\n",
    "* Trade-offs and Limitations: Ridge maintains all features but may not perform feature selection; Lasso can select features but may exclude important ones if \n",
    "λ is too high. Regularization methods and parameters should be selected based on cross-validation and domain knowledge."
   ]
  },
  {
   "cell_type": "code",
   "execution_count": null,
   "id": "ed0e9cb6-4e04-4100-add1-72236e980651",
   "metadata": {},
   "outputs": [],
   "source": []
  }
 ],
 "metadata": {
  "kernelspec": {
   "display_name": "Python 3 (ipykernel)",
   "language": "python",
   "name": "python3"
  },
  "language_info": {
   "codemirror_mode": {
    "name": "ipython",
    "version": 3
   },
   "file_extension": ".py",
   "mimetype": "text/x-python",
   "name": "python",
   "nbconvert_exporter": "python",
   "pygments_lexer": "ipython3",
   "version": "3.10.8"
  }
 },
 "nbformat": 4,
 "nbformat_minor": 5
}
